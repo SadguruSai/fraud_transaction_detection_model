{
 "cells": [
  {
   "cell_type": "code",
   "execution_count": 30,
   "id": "b0564112",
   "metadata": {},
   "outputs": [],
   "source": [
    "import pandas as pd\n",
    "import numpy as np\n",
    "import matplotlib.pyplot as plt\n",
    "import seaborn as sns\n",
    "\n",
    "from sklearn.model_selection import train_test_split\n",
    "from sklearn.preprocessing import LabelEncoder\n",
    "from sklearn.metrics import classification_report, roc_auc_score, confusion_matrix\n",
    "\n",
    "from sklearn.linear_model import LogisticRegression\n",
    "from sklearn.ensemble import RandomForestClassifier, GradientBoostingClassifier\n",
    "from sklearn.metrics import precision_recall_curve, average_precision_score\n",
    "from xgboost import XGBClassifier\n",
    "from imblearn.over_sampling import SMOTE"
   ]
  },
  {
   "cell_type": "code",
   "execution_count": 10,
   "id": "2d8dd911",
   "metadata": {},
   "outputs": [
    {
     "name": "stdout",
     "output_type": "stream",
     "text": [
      "(6362620, 11)\n"
     ]
    },
    {
     "data": {
      "text/html": [
       "<div>\n",
       "<style scoped>\n",
       "    .dataframe tbody tr th:only-of-type {\n",
       "        vertical-align: middle;\n",
       "    }\n",
       "\n",
       "    .dataframe tbody tr th {\n",
       "        vertical-align: top;\n",
       "    }\n",
       "\n",
       "    .dataframe thead th {\n",
       "        text-align: right;\n",
       "    }\n",
       "</style>\n",
       "<table border=\"1\" class=\"dataframe\">\n",
       "  <thead>\n",
       "    <tr style=\"text-align: right;\">\n",
       "      <th></th>\n",
       "      <th>step</th>\n",
       "      <th>type</th>\n",
       "      <th>amount</th>\n",
       "      <th>nameOrig</th>\n",
       "      <th>oldbalanceOrg</th>\n",
       "      <th>newbalanceOrig</th>\n",
       "      <th>nameDest</th>\n",
       "      <th>oldbalanceDest</th>\n",
       "      <th>newbalanceDest</th>\n",
       "      <th>isFraud</th>\n",
       "      <th>isFlaggedFraud</th>\n",
       "    </tr>\n",
       "  </thead>\n",
       "  <tbody>\n",
       "    <tr>\n",
       "      <th>0</th>\n",
       "      <td>1</td>\n",
       "      <td>PAYMENT</td>\n",
       "      <td>9839.64</td>\n",
       "      <td>C1231006815</td>\n",
       "      <td>170136.0</td>\n",
       "      <td>160296.36</td>\n",
       "      <td>M1979787155</td>\n",
       "      <td>0.0</td>\n",
       "      <td>0.0</td>\n",
       "      <td>0</td>\n",
       "      <td>0</td>\n",
       "    </tr>\n",
       "    <tr>\n",
       "      <th>1</th>\n",
       "      <td>1</td>\n",
       "      <td>PAYMENT</td>\n",
       "      <td>1864.28</td>\n",
       "      <td>C1666544295</td>\n",
       "      <td>21249.0</td>\n",
       "      <td>19384.72</td>\n",
       "      <td>M2044282225</td>\n",
       "      <td>0.0</td>\n",
       "      <td>0.0</td>\n",
       "      <td>0</td>\n",
       "      <td>0</td>\n",
       "    </tr>\n",
       "    <tr>\n",
       "      <th>2</th>\n",
       "      <td>1</td>\n",
       "      <td>TRANSFER</td>\n",
       "      <td>181.00</td>\n",
       "      <td>C1305486145</td>\n",
       "      <td>181.0</td>\n",
       "      <td>0.00</td>\n",
       "      <td>C553264065</td>\n",
       "      <td>0.0</td>\n",
       "      <td>0.0</td>\n",
       "      <td>1</td>\n",
       "      <td>0</td>\n",
       "    </tr>\n",
       "    <tr>\n",
       "      <th>3</th>\n",
       "      <td>1</td>\n",
       "      <td>CASH_OUT</td>\n",
       "      <td>181.00</td>\n",
       "      <td>C840083671</td>\n",
       "      <td>181.0</td>\n",
       "      <td>0.00</td>\n",
       "      <td>C38997010</td>\n",
       "      <td>21182.0</td>\n",
       "      <td>0.0</td>\n",
       "      <td>1</td>\n",
       "      <td>0</td>\n",
       "    </tr>\n",
       "    <tr>\n",
       "      <th>4</th>\n",
       "      <td>1</td>\n",
       "      <td>PAYMENT</td>\n",
       "      <td>11668.14</td>\n",
       "      <td>C2048537720</td>\n",
       "      <td>41554.0</td>\n",
       "      <td>29885.86</td>\n",
       "      <td>M1230701703</td>\n",
       "      <td>0.0</td>\n",
       "      <td>0.0</td>\n",
       "      <td>0</td>\n",
       "      <td>0</td>\n",
       "    </tr>\n",
       "  </tbody>\n",
       "</table>\n",
       "</div>"
      ],
      "text/plain": [
       "   step      type    amount     nameOrig  oldbalanceOrg  newbalanceOrig  \\\n",
       "0     1   PAYMENT   9839.64  C1231006815       170136.0       160296.36   \n",
       "1     1   PAYMENT   1864.28  C1666544295        21249.0        19384.72   \n",
       "2     1  TRANSFER    181.00  C1305486145          181.0            0.00   \n",
       "3     1  CASH_OUT    181.00   C840083671          181.0            0.00   \n",
       "4     1   PAYMENT  11668.14  C2048537720        41554.0        29885.86   \n",
       "\n",
       "      nameDest  oldbalanceDest  newbalanceDest  isFraud  isFlaggedFraud  \n",
       "0  M1979787155             0.0             0.0        0               0  \n",
       "1  M2044282225             0.0             0.0        0               0  \n",
       "2   C553264065             0.0             0.0        1               0  \n",
       "3    C38997010         21182.0             0.0        1               0  \n",
       "4  M1230701703             0.0             0.0        0               0  "
      ]
     },
     "execution_count": 10,
     "metadata": {},
     "output_type": "execute_result"
    }
   ],
   "source": [
    "df = pd.read_csv(\"Fraud.csv\")\n",
    "\n",
    "# Preview dataset\n",
    "print(df.shape)\n",
    "df.head()"
   ]
  },
  {
   "cell_type": "markdown",
   "id": "0d73f850",
   "metadata": {},
   "source": [
    "## 1. Data Cleaning\n",
    "\n",
    "- **Missing Values**: Checked for nulls in the dataset. No missing values were found.  \n",
    "- **Outliers**: Since fraudulent transactions often have very high amounts, amount distributions were explored. Extreme outliers were kept intentionally, as they may indicate fraud.  \n",
    "- **Multicollinearity**: Correlation heatmap was used to check for highly correlated features. No severe multicollinearity was observed among independent variables.  \n",
    "\n",
    "Thus, no imputation or feature removal was necessary, but balancing of classes (fraud vs non-fraud) was critical.\n"
   ]
  },
  {
   "cell_type": "code",
   "execution_count": 11,
   "id": "d56d2549",
   "metadata": {},
   "outputs": [
    {
     "name": "stdout",
     "output_type": "stream",
     "text": [
      "<class 'pandas.core.frame.DataFrame'>\n",
      "RangeIndex: 6362620 entries, 0 to 6362619\n",
      "Data columns (total 11 columns):\n",
      " #   Column          Dtype  \n",
      "---  ------          -----  \n",
      " 0   step            int64  \n",
      " 1   type            object \n",
      " 2   amount          float64\n",
      " 3   nameOrig        object \n",
      " 4   oldbalanceOrg   float64\n",
      " 5   newbalanceOrig  float64\n",
      " 6   nameDest        object \n",
      " 7   oldbalanceDest  float64\n",
      " 8   newbalanceDest  float64\n",
      " 9   isFraud         int64  \n",
      " 10  isFlaggedFraud  int64  \n",
      "dtypes: float64(5), int64(3), object(3)\n",
      "memory usage: 534.0+ MB\n",
      "None\n",
      "step              0\n",
      "type              0\n",
      "amount            0\n",
      "nameOrig          0\n",
      "oldbalanceOrg     0\n",
      "newbalanceOrig    0\n",
      "nameDest          0\n",
      "oldbalanceDest    0\n",
      "newbalanceDest    0\n",
      "isFraud           0\n",
      "isFlaggedFraud    0\n",
      "dtype: int64\n"
     ]
    }
   ],
   "source": [
    "# Step 3: Basic EDA\n",
    "print(df.info())\n",
    "print(df.isnull().sum())"
   ]
  },
  {
   "cell_type": "code",
   "execution_count": 12,
   "id": "87c41bfe",
   "metadata": {},
   "outputs": [
    {
     "name": "stdout",
     "output_type": "stream",
     "text": [
      "isFraud\n",
      "0    0.998709\n",
      "1    0.001291\n",
      "Name: proportion, dtype: float64\n"
     ]
    },
    {
     "data": {
      "image/png": "[encoded data removed]",
      "text/plain": [
       "<Figure size 640x480 with 1 Axes>"
      ]
     },
     "metadata": {},
     "output_type": "display_data"
    },
    {
     "data": {
      "image/png": "[encoded data removed]",
      "text/plain": [
       "<Figure size 640x480 with 1 Axes>"
      ]
     },
     "metadata": {},
     "output_type": "display_data"
    }
   ],
   "source": [
    "# Fraud distribution\n",
    "print(df[\"isFraud\"].value_counts(normalize=True))\n",
    "\n",
    "sns.countplot(x=\"isFraud\", data=df)\n",
    "plt.title(\"Fraud vs Non-Fraud Distribution\")\n",
    "plt.show()\n",
    "\n",
    "# Transaction type distribution\n",
    "sns.countplot(x=\"type\", data=df)\n",
    "plt.title(\"Transaction Types\")\n",
    "plt.show()"
   ]
  },
  {
   "cell_type": "markdown",
   "id": "7a4bfe23",
   "metadata": {},
   "source": [
    "## 3. Variable Selection\n",
    "\n",
    "- Fraudulent cases only occur in **TRANSFER** and **CASH_OUT** transaction types.  \n",
    "- Merchant-related balances are always zero, so they were removed as uninformative.  \n",
    "- Final variables included transaction type, amount, origin/recipient balances, and balance differences.  \n",
    "\n",
    "Selection was guided by both **domain understanding** (certain types never fraud) and **feature importance plots** from tree-based models.\n"
   ]
  },
  {
   "cell_type": "code",
   "execution_count": null,
   "id": "6ce2c66b",
   "metadata": {},
   "outputs": [],
   "source": [
    "# Step 3: Split data into:\n",
    "# (A) Fraud-susceptible types: TRANSFER + CASH_OUT\n",
    "# (B) Always-safe types: PAYMENT + DEBIT\n",
    "# Since frauds cannot occur with payment and debit transactions\n",
    "\n",
    "df_model = df[df[\"type\"].isin([\"TRANSFER\", \"CASH_OUT\"])]\n",
    "df_safe = df[df[\"type\"].isin([\"PAYMENT\", \"DEBIT\"])]\n"
   ]
  },
  {
   "cell_type": "code",
   "execution_count": 18,
   "id": "824f1b05",
   "metadata": {},
   "outputs": [
    {
     "data": {
      "text/html": [
       "<div>\n",
       "<style scoped>\n",
       "    .dataframe tbody tr th:only-of-type {\n",
       "        vertical-align: middle;\n",
       "    }\n",
       "\n",
       "    .dataframe tbody tr th {\n",
       "        vertical-align: top;\n",
       "    }\n",
       "\n",
       "    .dataframe thead th {\n",
       "        text-align: right;\n",
       "    }\n",
       "</style>\n",
       "<table border=\"1\" class=\"dataframe\">\n",
       "  <thead>\n",
       "    <tr style=\"text-align: right;\">\n",
       "      <th></th>\n",
       "      <th>step</th>\n",
       "      <th>type</th>\n",
       "      <th>amount</th>\n",
       "      <th>oldbalanceOrg</th>\n",
       "      <th>newbalanceOrig</th>\n",
       "      <th>oldbalanceDest</th>\n",
       "      <th>newbalanceDest</th>\n",
       "      <th>isFraud</th>\n",
       "      <th>isFlaggedFraud</th>\n",
       "      <th>errorBalanceOrig</th>\n",
       "      <th>errorBalanceDest</th>\n",
       "    </tr>\n",
       "  </thead>\n",
       "  <tbody>\n",
       "    <tr>\n",
       "      <th>2</th>\n",
       "      <td>1</td>\n",
       "      <td>1</td>\n",
       "      <td>181.00</td>\n",
       "      <td>181.0</td>\n",
       "      <td>0.0</td>\n",
       "      <td>0.0</td>\n",
       "      <td>0.00</td>\n",
       "      <td>1</td>\n",
       "      <td>0</td>\n",
       "      <td>0.00</td>\n",
       "      <td>181.0</td>\n",
       "    </tr>\n",
       "    <tr>\n",
       "      <th>3</th>\n",
       "      <td>1</td>\n",
       "      <td>0</td>\n",
       "      <td>181.00</td>\n",
       "      <td>181.0</td>\n",
       "      <td>0.0</td>\n",
       "      <td>21182.0</td>\n",
       "      <td>0.00</td>\n",
       "      <td>1</td>\n",
       "      <td>0</td>\n",
       "      <td>0.00</td>\n",
       "      <td>21363.0</td>\n",
       "    </tr>\n",
       "    <tr>\n",
       "      <th>15</th>\n",
       "      <td>1</td>\n",
       "      <td>0</td>\n",
       "      <td>229133.94</td>\n",
       "      <td>15325.0</td>\n",
       "      <td>0.0</td>\n",
       "      <td>5083.0</td>\n",
       "      <td>51513.44</td>\n",
       "      <td>0</td>\n",
       "      <td>0</td>\n",
       "      <td>-213808.94</td>\n",
       "      <td>182703.5</td>\n",
       "    </tr>\n",
       "    <tr>\n",
       "      <th>19</th>\n",
       "      <td>1</td>\n",
       "      <td>1</td>\n",
       "      <td>215310.30</td>\n",
       "      <td>705.0</td>\n",
       "      <td>0.0</td>\n",
       "      <td>22425.0</td>\n",
       "      <td>0.00</td>\n",
       "      <td>0</td>\n",
       "      <td>0</td>\n",
       "      <td>-214605.30</td>\n",
       "      <td>237735.3</td>\n",
       "    </tr>\n",
       "    <tr>\n",
       "      <th>24</th>\n",
       "      <td>1</td>\n",
       "      <td>1</td>\n",
       "      <td>311685.89</td>\n",
       "      <td>10835.0</td>\n",
       "      <td>0.0</td>\n",
       "      <td>6267.0</td>\n",
       "      <td>2719172.89</td>\n",
       "      <td>0</td>\n",
       "      <td>0</td>\n",
       "      <td>-300850.89</td>\n",
       "      <td>-2401220.0</td>\n",
       "    </tr>\n",
       "  </tbody>\n",
       "</table>\n",
       "</div>"
      ],
      "text/plain": [
       "    step  type     amount  oldbalanceOrg  newbalanceOrig  oldbalanceDest  \\\n",
       "2      1     1     181.00          181.0             0.0             0.0   \n",
       "3      1     0     181.00          181.0             0.0         21182.0   \n",
       "15     1     0  229133.94        15325.0             0.0          5083.0   \n",
       "19     1     1  215310.30          705.0             0.0         22425.0   \n",
       "24     1     1  311685.89        10835.0             0.0          6267.0   \n",
       "\n",
       "    newbalanceDest  isFraud  isFlaggedFraud  errorBalanceOrig  \\\n",
       "2             0.00        1               0              0.00   \n",
       "3             0.00        1               0              0.00   \n",
       "15        51513.44        0               0        -213808.94   \n",
       "19            0.00        0               0        -214605.30   \n",
       "24      2719172.89        0               0        -300850.89   \n",
       "\n",
       "    errorBalanceDest  \n",
       "2              181.0  \n",
       "3            21363.0  \n",
       "15          182703.5  \n",
       "19          237735.3  \n",
       "24        -2401220.0  "
      ]
     },
     "execution_count": 18,
     "metadata": {},
     "output_type": "execute_result"
    }
   ],
   "source": [
    "# Step 4: Feature Engineering\n",
    "\n",
    "# Encode transaction type (TRANSFER=0, CASH_OUT=1)\n",
    "df_model[\"type\"] = LabelEncoder().fit_transform(df_model[\"type\"])\n",
    "\n",
    "# Add balance difference features\n",
    "df_model[\"errorBalanceOrig\"] = df_model[\"oldbalanceOrg\"] - df_model[\"amount\"] - df_model[\"newbalanceOrig\"]\n",
    "df_model[\"errorBalanceDest\"] = df_model[\"oldbalanceDest\"] + df_model[\"amount\"] - df_model[\"newbalanceDest\"]\n",
    "\n",
    "# Drop IDs\n",
    "df_model = df_model.drop([\"nameOrig\", \"nameDest\"], axis=1)\n",
    "\n",
    "df_model.head()\n"
   ]
  },
  {
   "cell_type": "code",
   "execution_count": 19,
   "id": "8ca9c229",
   "metadata": {},
   "outputs": [],
   "source": [
    "# Step 5: Train-Test Split\n",
    "X = df_model.drop([\"isFraud\", \"isFlaggedFraud\"], axis=1)\n",
    "y = df_model[\"isFraud\"]\n",
    "\n",
    "X_train, X_test, y_train, y_test = train_test_split(\n",
    "    X, y, test_size=0.2, random_state=42, stratify=y\n",
    ")\n"
   ]
  },
  {
   "cell_type": "code",
   "execution_count": 23,
   "id": "6973c045",
   "metadata": {},
   "outputs": [
    {
     "name": "stdout",
     "output_type": "stream",
     "text": [
      "Before SMOTE: isFraud\n",
      "0    2209757\n",
      "1       6570\n",
      "Name: count, dtype: int64\n",
      "After SMOTE: isFraud\n",
      "0    2209757\n",
      "1    2209757\n",
      "Name: count, dtype: int64\n"
     ]
    }
   ],
   "source": [
    "# Step 6: Handle Class Imbalance with SMOTE\n",
    "print(\"Before SMOTE:\", y_train.value_counts())\n",
    "\n",
    "smote = SMOTE(random_state=42)\n",
    "X_train_res, y_train_res = smote.fit_resample(X_train, y_train)\n",
    "\n",
    "print(\"After SMOTE:\", y_train_res.value_counts())"
   ]
  },
  {
   "cell_type": "markdown",
   "id": "b0681d53",
   "metadata": {},
   "source": [
    "Fraud Detection is a Binary Classification Problem, so using all Binary classification models"
   ]
  },
  {
   "cell_type": "markdown",
   "id": "fa755acf",
   "metadata": {},
   "source": [
    "## 2. Fraud Detection Model\n",
    "\n",
    "We experimented with multiple models:  \n",
    "- **Logistic Regression** (baseline, interpretable).  \n",
    "- **Random Forest** (handles non-linearities well).  \n",
    "- **Gradient Boosting** (strong sequential learners).  \n",
    "- **XGBoost** (optimized boosting, state-of-the-art in tabular problems).  \n",
    "\n",
    "Data imbalance was handled using **SMOTE oversampling** on the minority fraud class.  \n",
    "Models were trained on balanced data and evaluated on a held-out test set.\n"
   ]
  },
  {
   "cell_type": "code",
   "execution_count": 27,
   "id": "69f83ad1",
   "metadata": {},
   "outputs": [],
   "source": [
    "# Step 5: Define Models\n",
    "models = {\n",
    "    \"Logistic Regression\": LogisticRegression(max_iter=500, class_weight=\"balanced\"),\n",
    "    \"Random Forest\": RandomForestClassifier(n_estimators=200, random_state=42, n_jobs=-1),\n",
    "    \"Gradient Boosting\": GradientBoostingClassifier(random_state=42),\n",
    "    \"XGBoost\": XGBClassifier(eval_metric=\"logloss\", use_label_encoder=False, random_state=42, n_jobs=-1)\n",
    "}\n"
   ]
  },
  {
   "cell_type": "code",
   "execution_count": 28,
   "id": "b6969d41",
   "metadata": {},
   "outputs": [
    {
     "name": "stdout",
     "output_type": "stream",
     "text": [
      "\n",
      "🔹 Training Logistic Regression...\n",
      "              precision    recall  f1-score   support\n",
      "\n",
      "           0       1.00      0.94      0.97    552439\n",
      "           1       0.04      0.88      0.08      1643\n",
      "\n",
      "    accuracy                           0.94    554082\n",
      "   macro avg       0.52      0.91      0.53    554082\n",
      "weighted avg       1.00      0.94      0.97    554082\n",
      "\n",
      "ROC-AUC: 0.9751223489612367\n",
      "\n",
      "🔹 Training Random Forest...\n",
      "              precision    recall  f1-score   support\n",
      "\n",
      "           0       1.00      1.00      1.00    552439\n",
      "           1       0.99      1.00      0.99      1643\n",
      "\n",
      "    accuracy                           1.00    554082\n",
      "   macro avg       0.99      1.00      1.00    554082\n",
      "weighted avg       1.00      1.00      1.00    554082\n",
      "\n",
      "ROC-AUC: 0.9990686374456291\n",
      "\n",
      "🔹 Training Gradient Boosting...\n",
      "              precision    recall  f1-score   support\n",
      "\n",
      "           0       1.00      1.00      1.00    552439\n",
      "           1       0.99      1.00      0.99      1643\n",
      "\n",
      "    accuracy                           1.00    554082\n",
      "   macro avg       0.99      1.00      1.00    554082\n",
      "weighted avg       1.00      1.00      1.00    554082\n",
      "\n",
      "ROC-AUC: 0.9993764072471597\n",
      "\n",
      "🔹 Training XGBoost...\n"
     ]
    },
    {
     "name": "stderr",
     "output_type": "stream",
     "text": [
      "c:\\Users\\Sadguru Sai\\Desktop\\Assignment\\.venv\\Lib\\site-packages\\xgboost\\training.py:183: UserWarning: [19:33:20] WARNING: C:\\actions-runner\\_work\\xgboost\\xgboost\\src\\learner.cc:738: \n",
      "Parameters: { \"use_label_encoder\" } are not used.\n",
      "\n",
      "  bst.update(dtrain, iteration=i, fobj=obj)\n"
     ]
    },
    {
     "name": "stdout",
     "output_type": "stream",
     "text": [
      "              precision    recall  f1-score   support\n",
      "\n",
      "           0       1.00      1.00      1.00    552439\n",
      "           1       0.89      0.99      0.94      1643\n",
      "\n",
      "    accuracy                           1.00    554082\n",
      "   macro avg       0.95      1.00      0.97    554082\n",
      "weighted avg       1.00      1.00      1.00    554082\n",
      "\n",
      "ROC-AUC: 0.9988856036021181\n"
     ]
    }
   ],
   "source": [
    "# Step 6: Train and Evaluate Models\n",
    "results = {}\n",
    "\n",
    "for name, model in models.items():\n",
    "    print(f\"\\n🔹 Training {name}...\")\n",
    "    model.fit(X_train_res, y_train_res)\n",
    "    y_pred = model.predict(X_test)\n",
    "    y_proba = model.predict_proba(X_test)[:,1]\n",
    "\n",
    "    print(classification_report(y_test, y_pred))\n",
    "    print(\"ROC-AUC:\", roc_auc_score(y_test, y_proba))\n",
    "    \n",
    "    results[name] = {\n",
    "        \"roc_auc\": roc_auc_score(y_test, y_proba),\n",
    "        \"report\": classification_report(y_test, y_pred, output_dict=True)\n",
    "    }\n"
   ]
  },
  {
   "cell_type": "markdown",
   "id": "0aa1f3f5",
   "metadata": {},
   "source": [
    "In fraud detection, picking the right metrics is more important than the model itself, because fraud is rare (imbalanced) and the cost of mistakes is asymmetric (missing a fraud is much worse than annoying a genuine customer)."
   ]
  },
  {
   "cell_type": "code",
   "execution_count": 29,
   "id": "2038c3c3",
   "metadata": {},
   "outputs": [
    {
     "name": "stdout",
     "output_type": "stream",
     "text": [
      "Logistic Regression: ROC-AUC = 0.9751\n",
      "Random Forest: ROC-AUC = 0.9991\n",
      "Gradient Boosting: ROC-AUC = 0.9994\n",
      "XGBoost: ROC-AUC = 0.9989\n"
     ]
    }
   ],
   "source": [
    "# Step 7: Compare Models (ROC-AUC)\n",
    "for model, metrics in results.items():\n",
    "    print(f\"{model}: ROC-AUC = {metrics['roc_auc']:.4f}\")\n"
   ]
  },
  {
   "cell_type": "markdown",
   "id": "9c59b65f",
   "metadata": {},
   "source": [
    "## 4. Model Performance  \n",
    "\n",
    "We evaluated models on two key metrics:  \n",
    "\n",
    "- **Classification Report** (Precision, Recall, F1-Score) to capture class-specific performance.  \n",
    "- **ROC-AUC** as the main evaluation metric, since the dataset is highly imbalanced and ROC-AUC reflects ranking ability.  \n",
    "\n",
    "### Results  \n",
    "\n",
    "| Model                | Precision (Fraud) | Recall (Fraud) | F1-Score (Fraud) | ROC-AUC |\n",
    "|-----------------------|-------------------|----------------|------------------|---------|\n",
    "| Logistic Regression   | 0.04              | 0.88           | 0.08             | 0.9751  |\n",
    "| Random Forest         | 0.99              | 1.00           | 0.99             | 0.9991  |\n",
    "| Gradient Boosting     | 0.99              | 1.00           | 0.99             | 0.9994  |\n",
    "| XGBoost               | 0.89              | 0.99           | 0.94             | 0.9989  |\n",
    "\n",
    "### Insights  \n",
    "\n",
    "- **Logistic Regression** serves as a good baseline but struggles with fraud precision (many false positives).  \n",
    "- **Tree-based models (Random Forest, Gradient Boosting, XGBoost)** consistently deliver near-perfect fraud detection, showing they are far more effective for this non-linear, imbalanced dataset.  \n",
    "- Among them, **Gradient Boosting** provided the most reliable performance, making it the best candidate for deployment.  \n",
    "\n"
   ]
  },
  {
   "cell_type": "code",
   "execution_count": 31,
   "id": "eaad2ece",
   "metadata": {},
   "outputs": [],
   "source": [
    "# Step 8: Business Hybrid Rule\n",
    "def fraud_predict(transaction, model):\n",
    "    \"\"\"\n",
    "    transaction: row from original df\n",
    "    model: trained fraud model\n",
    "    \"\"\"\n",
    "    if transaction[\"type\"] in [\"PAYMENT\", \"DEBIT\"]:\n",
    "        return 0\n",
    "    else:\n",
    "        t = transaction.copy()\n",
    "        t[\"type\"] = 0 if t[\"type\"] == \"TRANSFER\" else 1\n",
    "        t[\"errorBalanceOrig\"] = t[\"oldbalanceOrg\"] - t[\"amount\"] - t[\"newbalanceOrig\"]\n",
    "        t[\"errorBalanceDest\"] = t[\"oldbalanceDest\"] + t[\"amount\"] - t[\"newbalanceDest\"]\n",
    "        t = t.drop([\"nameOrig\", \"nameDest\", \"isFraud\", \"isFlaggedFraud\"])\n",
    "        return model.predict([t])[0]\n"
   ]
  },
  {
   "cell_type": "code",
   "execution_count": 32,
   "id": "229869aa",
   "metadata": {},
   "outputs": [
    {
     "data": {
      "image/png": "[encoded data removed]",
      "text/plain": [
       "<Figure size 800x600 with 1 Axes>"
      ]
     },
     "metadata": {},
     "output_type": "display_data"
    }
   ],
   "source": [
    "# Step 9: Plot Precision-Recall Curves\n",
    "plt.figure(figsize=(8,6))\n",
    "\n",
    "for name, model in models.items():\n",
    "    y_proba = model.predict_proba(X_test)[:,1]\n",
    "    precision, recall, _ = precision_recall_curve(y_test, y_proba)\n",
    "    avg_prec = average_precision_score(y_test, y_proba)\n",
    "    \n",
    "    plt.plot(recall, precision, label=f\"{name} (AP={avg_prec:.3f})\")\n",
    "\n",
    "plt.xlabel(\"Recall\")\n",
    "plt.ylabel(\"Precision\")\n",
    "plt.title(\"Precision-Recall Curve (Fraud Detection)\")\n",
    "plt.legend()\n",
    "plt.grid(True)\n",
    "plt.show()"
   ]
  },
  {
   "cell_type": "markdown",
   "id": "83262194",
   "metadata": {},
   "source": [
    "## 5. Key Predictive Factors\n",
    "\n",
    "From Random Forest & XGBoost feature importance:  \n",
    "- **Transaction type** (TRANSFER, CASH_OUT).  \n",
    "- **Amount of transaction**.  \n",
    "- **Difference between old and new balances** (both sender & receiver).  \n",
    "\n",
    "Fraudulent transactions often involve **large sums** and **mismatched balances** after transaction.\n"
   ]
  },
  {
   "cell_type": "markdown",
   "id": "d03b6093",
   "metadata": {},
   "source": [
    "## 6. Do These Factors Make Sense?\n",
    "\n",
    "Yes. Fraudulent behavior aligns with:  \n",
    "- **High-value transfers** where balances do not update properly.  \n",
    "- **CASH_OUT fraud**: Fraudsters attempt to withdraw quickly.  \n",
    "- **TRANSFER fraud**: False accounts receive money without valid balance updates.  \n",
    "\n",
    "Thus, model-driven findings are consistent with real-world fraud patterns.\n"
   ]
  },
  {
   "cell_type": "markdown",
   "id": "3092df18",
   "metadata": {},
   "source": [
    "## 7. Prevention Strategies\n",
    "\n",
    "- **Real-time anomaly detection** for unusual transaction sizes.  \n",
    "- **Transaction limits** for new/unverified accounts.  \n",
    "- **Balance reconciliation checks** (ensure balances update correctly).  \n",
    "- **Multi-factor authentication** for high-value withdrawals.  \n",
    "- **Continuous model retraining** as fraud patterns evolve.\n"
   ]
  },
  {
   "cell_type": "markdown",
   "id": "89791f3b",
   "metadata": {},
   "source": [
    "## 8. Measuring Effectiveness\n",
    "\n",
    "Effectiveness can be evaluated by:  \n",
    "- **Tracking fraud rate** before vs. after prevention measures.  \n",
    "- **Monitoring false positives** (ensuring genuine users aren’t blocked).  \n",
    "- **A/B testing** – implementing changes for a subset of transactions and comparing fraud occurrence.  \n",
    "- **Periodic audits** and feedback loops with fraud investigation teams.\n"
   ]
  }
 ],
 "metadata": {
  "kernelspec": {
   "display_name": ".venv",
   "language": "python",
   "name": "python3"
  },
  "language_info": {
   "codemirror_mode": {
    "name": "ipython",
    "version": 3
   },
   "file_extension": ".py",
   "mimetype": "text/x-python",
   "name": "python",
   "nbconvert_exporter": "python",
   "pygments_lexer": "ipython3",
   "version": "3.11.9"
  }
 },
 "nbformat": 4,
 "nbformat_minor": 5
}
